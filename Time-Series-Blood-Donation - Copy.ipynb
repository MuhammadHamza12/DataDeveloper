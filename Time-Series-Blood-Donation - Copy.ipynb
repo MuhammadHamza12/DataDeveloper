{
 "cells": [
  {
   "cell_type": "code",
   "execution_count": 1,
   "metadata": {},
   "outputs": [],
   "source": [
    "#importing libraries\n",
    "import warnings\n",
    "import itertools\n",
    "import numpy as np\n",
    "import matplotlib.pyplot as plt\n",
    "warnings.filterwarnings(\"ignore\")\n",
    "plt.style.use('fivethirtyeight')\n",
    "import pandas as pd\n",
    "import statsmodels.api as sm\n",
    "import matplotlib\n",
    "matplotlib.rcParams['axes.labelsize'] = 14\n",
    "matplotlib.rcParams['xtick.labelsize'] = 12\n",
    "matplotlib.rcParams['ytick.labelsize'] = 12\n",
    "matplotlib.rcParams['text.color'] = 'k'\n",
    "%matplotlib inline"
   ]
  },
  {
   "cell_type": "code",
   "execution_count": 2,
   "metadata": {},
   "outputs": [],
   "source": [
    "# Loading the data\n",
    "df = pd.read_excel(\"hackathon_data_round2.xlsx\")"
   ]
  },
  {
   "cell_type": "code",
   "execution_count": 3,
   "metadata": {},
   "outputs": [
    {
     "data": {
      "text/html": [
       "<div>\n",
       "<style scoped>\n",
       "    .dataframe tbody tr th:only-of-type {\n",
       "        vertical-align: middle;\n",
       "    }\n",
       "\n",
       "    .dataframe tbody tr th {\n",
       "        vertical-align: top;\n",
       "    }\n",
       "\n",
       "    .dataframe thead th {\n",
       "        text-align: right;\n",
       "    }\n",
       "</style>\n",
       "<table border=\"1\" class=\"dataframe\">\n",
       "  <thead>\n",
       "    <tr style=\"text-align: right;\">\n",
       "      <th></th>\n",
       "      <th>Financial_Year</th>\n",
       "      <th>Branch_Code</th>\n",
       "      <th>Sequence_1</th>\n",
       "      <th>Sequence_2</th>\n",
       "      <th>Donation_type</th>\n",
       "      <th>Donor_Age</th>\n",
       "      <th>Donation_Date</th>\n",
       "      <th>Gender</th>\n",
       "      <th>Blood_Group_Code</th>\n",
       "      <th>Donor_Weight</th>\n",
       "      <th>Donor_Temperature</th>\n",
       "      <th>Donor_Pulse</th>\n",
       "      <th>Donor_Hemoglobin</th>\n",
       "      <th>Donor_Blood_Pressure</th>\n",
       "      <th>Test_1</th>\n",
       "      <th>C1</th>\n",
       "      <th>Test_2</th>\n",
       "      <th>C2</th>\n",
       "      <th>Test_3</th>\n",
       "      <th>Test_4</th>\n",
       "    </tr>\n",
       "  </thead>\n",
       "  <tbody>\n",
       "    <tr>\n",
       "      <th>0</th>\n",
       "      <td>14</td>\n",
       "      <td>BRC-01</td>\n",
       "      <td>345</td>\n",
       "      <td>1.0</td>\n",
       "      <td>R</td>\n",
       "      <td>24.0</td>\n",
       "      <td>01-JUL-13</td>\n",
       "      <td>M</td>\n",
       "      <td>5.0</td>\n",
       "      <td>56.0</td>\n",
       "      <td>37.0</td>\n",
       "      <td>72.0</td>\n",
       "      <td>13.0</td>\n",
       "      <td>120/80</td>\n",
       "      <td>0.121</td>\n",
       "      <td>N</td>\n",
       "      <td>0.224</td>\n",
       "      <td>N</td>\n",
       "      <td>R</td>\n",
       "      <td>N</td>\n",
       "    </tr>\n",
       "    <tr>\n",
       "      <th>1</th>\n",
       "      <td>14</td>\n",
       "      <td>BRC-01</td>\n",
       "      <td>346</td>\n",
       "      <td>2.0</td>\n",
       "      <td>R</td>\n",
       "      <td>33.0</td>\n",
       "      <td>01-JUL-13</td>\n",
       "      <td>M</td>\n",
       "      <td>3.0</td>\n",
       "      <td>75.0</td>\n",
       "      <td>37.0</td>\n",
       "      <td>72.0</td>\n",
       "      <td>13.0</td>\n",
       "      <td>120/80</td>\n",
       "      <td>0.122</td>\n",
       "      <td>N</td>\n",
       "      <td>0.222</td>\n",
       "      <td>N</td>\n",
       "      <td>N</td>\n",
       "      <td>N</td>\n",
       "    </tr>\n",
       "    <tr>\n",
       "      <th>2</th>\n",
       "      <td>14</td>\n",
       "      <td>BRC-01</td>\n",
       "      <td>347</td>\n",
       "      <td>3.0</td>\n",
       "      <td>R</td>\n",
       "      <td>28.0</td>\n",
       "      <td>01-JUL-13</td>\n",
       "      <td>M</td>\n",
       "      <td>5.0</td>\n",
       "      <td>65.0</td>\n",
       "      <td>37.0</td>\n",
       "      <td>72.0</td>\n",
       "      <td>13.0</td>\n",
       "      <td>120/80</td>\n",
       "      <td>0.123</td>\n",
       "      <td>N</td>\n",
       "      <td>0.221</td>\n",
       "      <td>N</td>\n",
       "      <td>N</td>\n",
       "      <td>N</td>\n",
       "    </tr>\n",
       "    <tr>\n",
       "      <th>3</th>\n",
       "      <td>14</td>\n",
       "      <td>BRC-01</td>\n",
       "      <td>348</td>\n",
       "      <td>4.0</td>\n",
       "      <td>R</td>\n",
       "      <td>20.0</td>\n",
       "      <td>01-JUL-13</td>\n",
       "      <td>M</td>\n",
       "      <td>3.0</td>\n",
       "      <td>65.0</td>\n",
       "      <td>37.0</td>\n",
       "      <td>72.0</td>\n",
       "      <td>13.0</td>\n",
       "      <td>120/80</td>\n",
       "      <td>0.123</td>\n",
       "      <td>N</td>\n",
       "      <td>0.242</td>\n",
       "      <td>N</td>\n",
       "      <td>N</td>\n",
       "      <td>N</td>\n",
       "    </tr>\n",
       "    <tr>\n",
       "      <th>4</th>\n",
       "      <td>14</td>\n",
       "      <td>BRC-01</td>\n",
       "      <td>349</td>\n",
       "      <td>5.0</td>\n",
       "      <td>T</td>\n",
       "      <td>22.0</td>\n",
       "      <td>01-JUL-13</td>\n",
       "      <td>M</td>\n",
       "      <td>7.0</td>\n",
       "      <td>75.0</td>\n",
       "      <td>37.0</td>\n",
       "      <td>72.0</td>\n",
       "      <td>13.0</td>\n",
       "      <td>120/80</td>\n",
       "      <td>0.124</td>\n",
       "      <td>N</td>\n",
       "      <td>0.243</td>\n",
       "      <td>N</td>\n",
       "      <td>N</td>\n",
       "      <td>N</td>\n",
       "    </tr>\n",
       "  </tbody>\n",
       "</table>\n",
       "</div>"
      ],
      "text/plain": [
       "   Financial_Year  Branch_Code   Sequence_1  Sequence_2 Donation_type   \\\n",
       "0               14       BRC-01         345         1.0              R   \n",
       "1               14       BRC-01         346         2.0              R   \n",
       "2               14       BRC-01         347         3.0              R   \n",
       "3               14       BRC-01         348         4.0              R   \n",
       "4               14       BRC-01         349         5.0              T   \n",
       "\n",
       "   Donor_Age  Donation_Date  Gender   Blood_Group_Code  Donor_Weight   \\\n",
       "0        24.0      01-JUL-13       M               5.0           56.0   \n",
       "1        33.0      01-JUL-13       M               3.0           75.0   \n",
       "2        28.0      01-JUL-13       M               5.0           65.0   \n",
       "3        20.0      01-JUL-13       M               3.0           65.0   \n",
       "4        22.0      01-JUL-13       M               7.0           75.0   \n",
       "\n",
       "   Donor_Temperature  Donor_Pulse  Donor_Hemoglobin Donor_Blood_Pressure  \\\n",
       "0               37.0         72.0              13.0               120/80   \n",
       "1               37.0         72.0              13.0               120/80   \n",
       "2               37.0         72.0              13.0               120/80   \n",
       "3               37.0         72.0              13.0               120/80   \n",
       "4               37.0         72.0              13.0               120/80   \n",
       "\n",
       "   Test_1 C1  Test_2 C2 Test_3 Test_4  \n",
       "0   0.121  N   0.224  N      R      N  \n",
       "1   0.122  N   0.222  N      N      N  \n",
       "2   0.123  N   0.221  N      N      N  \n",
       "3   0.123  N   0.242  N      N      N  \n",
       "4   0.124  N   0.243  N      N      N  "
      ]
     },
     "execution_count": 3,
     "metadata": {},
     "output_type": "execute_result"
    }
   ],
   "source": [
    "df.head()"
   ]
  },
  {
   "cell_type": "code",
   "execution_count": 4,
   "metadata": {},
   "outputs": [
    {
     "data": {
      "text/plain": [
       "Financial_Year              0\n",
       "Branch_Code                 0\n",
       "Sequence_1                  0\n",
       "Sequence_2                  2\n",
       "Donation_type               2\n",
       "Donor_Age               16455\n",
       "Donation_Date               2\n",
       "Gender                     14\n",
       "Blood_Group_Code          539\n",
       "Donor_Weight            32827\n",
       "Donor_Temperature       32830\n",
       "Donor_Pulse             32829\n",
       "Donor_Hemoglobin        32830\n",
       "Donor_Blood_Pressure    32831\n",
       "Test_1                   2563\n",
       "C1                       2498\n",
       "Test_2                   2646\n",
       "C2                       2614\n",
       "Test_3                    262\n",
       "Test_4                    660\n",
       "dtype: int64"
      ]
     },
     "execution_count": 4,
     "metadata": {},
     "output_type": "execute_result"
    }
   ],
   "source": [
    "df.isnull().sum()"
   ]
  },
  {
   "cell_type": "code",
   "execution_count": 6,
   "metadata": {},
   "outputs": [
    {
     "data": {
      "text/plain": [
       "N    222846\n",
       "I       146\n",
       "R         8\n",
       "Name: C1, dtype: int64"
      ]
     },
     "execution_count": 6,
     "metadata": {},
     "output_type": "execute_result"
    }
   ],
   "source": [
    "df.C1.value_counts()"
   ]
  },
  {
   "cell_type": "code",
   "execution_count": 7,
   "metadata": {},
   "outputs": [
    {
     "data": {
      "text/plain": [
       "N    219068\n",
       "I      3761\n",
       "R        53\n",
       "P         2\n",
       "Name: C2, dtype: int64"
      ]
     },
     "execution_count": 7,
     "metadata": {},
     "output_type": "execute_result"
    }
   ],
   "source": [
    "df.C2.value_counts()"
   ]
  },
  {
   "cell_type": "code",
   "execution_count": 8,
   "metadata": {},
   "outputs": [
    {
     "data": {
      "text/plain": [
       "N    221563\n",
       "R      3380\n",
       "P       293\n",
       "Name: Test_3, dtype: int64"
      ]
     },
     "execution_count": 8,
     "metadata": {},
     "output_type": "execute_result"
    }
   ],
   "source": [
    "df.Test_3.value_counts()"
   ]
  },
  {
   "cell_type": "code",
   "execution_count": 9,
   "metadata": {},
   "outputs": [
    {
     "data": {
      "text/plain": [
       "N    224836\n",
       "P         1\n",
       "R         1\n",
       "Name: Test_4, dtype: int64"
      ]
     },
     "execution_count": 9,
     "metadata": {},
     "output_type": "execute_result"
    }
   ],
   "source": [
    "df.Test_4.value_counts()"
   ]
  },
  {
   "cell_type": "code",
   "execution_count": 82,
   "metadata": {},
   "outputs": [],
   "source": [
    "# Extracting the good samples from the data\n",
    "good_samples = df[(df.Test_4 == 'N') & (df.Test_3 == 'N') & (df.C2 == 'N') & (df.C1 == 'N')]"
   ]
  },
  {
   "cell_type": "code",
   "execution_count": 83,
   "metadata": {},
   "outputs": [
    {
     "data": {
      "text/plain": [
       "('31-OCT-17', '01-APR-14')"
      ]
     },
     "execution_count": 83,
     "metadata": {},
     "output_type": "execute_result"
    }
   ],
   "source": [
    "# Checking the minimum and the maximum date\n",
    "good_samples['Donation_Date '].max(), good_samples['Donation_Date '].min()"
   ]
  },
  {
   "cell_type": "code",
   "execution_count": 84,
   "metadata": {},
   "outputs": [
    {
     "data": {
      "text/html": [
       "<div>\n",
       "<style scoped>\n",
       "    .dataframe tbody tr th:only-of-type {\n",
       "        vertical-align: middle;\n",
       "    }\n",
       "\n",
       "    .dataframe tbody tr th {\n",
       "        vertical-align: top;\n",
       "    }\n",
       "\n",
       "    .dataframe thead th {\n",
       "        text-align: right;\n",
       "    }\n",
       "</style>\n",
       "<table border=\"1\" class=\"dataframe\">\n",
       "  <thead>\n",
       "    <tr style=\"text-align: right;\">\n",
       "      <th></th>\n",
       "      <th>Donation_type</th>\n",
       "      <th>Donor_Age</th>\n",
       "      <th>Donation_Date</th>\n",
       "      <th>Gender</th>\n",
       "      <th>Blood_Group_Code</th>\n",
       "      <th>Donor_Weight</th>\n",
       "      <th>Donor_Temperature</th>\n",
       "      <th>Donor_Pulse</th>\n",
       "      <th>Donor_Hemoglobin</th>\n",
       "      <th>Donor_Blood_Pressure</th>\n",
       "    </tr>\n",
       "  </thead>\n",
       "  <tbody>\n",
       "    <tr>\n",
       "      <th>1</th>\n",
       "      <td>R</td>\n",
       "      <td>33.0</td>\n",
       "      <td>01-JUL-13</td>\n",
       "      <td>M</td>\n",
       "      <td>3.0</td>\n",
       "      <td>75.0</td>\n",
       "      <td>37.0</td>\n",
       "      <td>72.0</td>\n",
       "      <td>13.0</td>\n",
       "      <td>120/80</td>\n",
       "    </tr>\n",
       "    <tr>\n",
       "      <th>2</th>\n",
       "      <td>R</td>\n",
       "      <td>28.0</td>\n",
       "      <td>01-JUL-13</td>\n",
       "      <td>M</td>\n",
       "      <td>5.0</td>\n",
       "      <td>65.0</td>\n",
       "      <td>37.0</td>\n",
       "      <td>72.0</td>\n",
       "      <td>13.0</td>\n",
       "      <td>120/80</td>\n",
       "    </tr>\n",
       "    <tr>\n",
       "      <th>3</th>\n",
       "      <td>R</td>\n",
       "      <td>20.0</td>\n",
       "      <td>01-JUL-13</td>\n",
       "      <td>M</td>\n",
       "      <td>3.0</td>\n",
       "      <td>65.0</td>\n",
       "      <td>37.0</td>\n",
       "      <td>72.0</td>\n",
       "      <td>13.0</td>\n",
       "      <td>120/80</td>\n",
       "    </tr>\n",
       "  </tbody>\n",
       "</table>\n",
       "</div>"
      ],
      "text/plain": [
       "  Donation_type   Donor_Age  Donation_Date  Gender   Blood_Group_Code  \\\n",
       "1              R        33.0      01-JUL-13       M               3.0   \n",
       "2              R        28.0      01-JUL-13       M               5.0   \n",
       "3              R        20.0      01-JUL-13       M               3.0   \n",
       "\n",
       "   Donor_Weight   Donor_Temperature  Donor_Pulse  Donor_Hemoglobin  \\\n",
       "1           75.0               37.0         72.0              13.0   \n",
       "2           65.0               37.0         72.0              13.0   \n",
       "3           65.0               37.0         72.0              13.0   \n",
       "\n",
       "  Donor_Blood_Pressure  \n",
       "1               120/80  \n",
       "2               120/80  \n",
       "3               120/80  "
      ]
     },
     "execution_count": 84,
     "metadata": {},
     "output_type": "execute_result"
    }
   ],
   "source": [
    "# Dropping the unnecessary columns\n",
    "cols = ['Financial_Year ', 'Branch_Code ', 'Sequence_1', 'Sequence_2','Test_1', 'C1', 'Test_2',\n",
    "       'C2', 'Test_3', 'Test_4']\n",
    "good_samples.drop(cols, axis=1, inplace=True)\n",
    "good_samples.head(3)"
   ]
  },
  {
   "cell_type": "code",
   "execution_count": 85,
   "metadata": {},
   "outputs": [
    {
     "data": {
      "text/plain": [
       "Donation_type               0\n",
       "Donor_Age               15921\n",
       "Donation_Date               0\n",
       "Gender                     12\n",
       "Blood_Group_Code          473\n",
       "Donor_Weight            32297\n",
       "Donor_Temperature       32300\n",
       "Donor_Pulse             32299\n",
       "Donor_Hemoglobin        32300\n",
       "Donor_Blood_Pressure    32301\n",
       "dtype: int64"
      ]
     },
     "execution_count": 85,
     "metadata": {},
     "output_type": "execute_result"
    }
   ],
   "source": [
    "good_samples = good_samples.sort_values('Donation_Date ')\n",
    "good_samples.isnull().sum()"
   ]
  },
  {
   "cell_type": "code",
   "execution_count": 86,
   "metadata": {},
   "outputs": [],
   "source": [
    "# Dealing with the missing values\n",
    "good_samples = good_samples.dropna()"
   ]
  },
  {
   "cell_type": "code",
   "execution_count": 88,
   "metadata": {},
   "outputs": [],
   "source": [
    "good_samples = good_samples.groupby('Donation_Date ')\n",
    "#good_samples.head(3)"
   ]
  },
  {
   "cell_type": "code",
   "execution_count": 89,
   "metadata": {},
   "outputs": [
    {
     "ename": "AttributeError",
     "evalue": "Cannot access callable attribute 'set_index' of 'DataFrameGroupBy' objects, try using the 'apply' method",
     "output_type": "error",
     "traceback": [
      "\u001b[1;31m---------------------------------------------------------------------------\u001b[0m",
      "\u001b[1;31mAttributeError\u001b[0m                            Traceback (most recent call last)",
      "\u001b[1;32m<ipython-input-89-fd779a3267b7>\u001b[0m in \u001b[0;36m<module>\u001b[1;34m\u001b[0m\n\u001b[0;32m      1\u001b[0m \u001b[1;33m\u001b[0m\u001b[0m\n\u001b[1;32m----> 2\u001b[1;33m \u001b[0mgood_samples\u001b[0m \u001b[1;33m=\u001b[0m \u001b[0mgood_samples\u001b[0m\u001b[1;33m.\u001b[0m\u001b[0mset_index\u001b[0m\u001b[1;33m(\u001b[0m\u001b[1;34m'Donation_Date '\u001b[0m\u001b[1;33m)\u001b[0m\u001b[1;33m\u001b[0m\u001b[1;33m\u001b[0m\u001b[0m\n\u001b[0m\u001b[0;32m      3\u001b[0m \u001b[0mgood_samples\u001b[0m\u001b[1;33m.\u001b[0m\u001b[0mindex\u001b[0m\u001b[1;33m\u001b[0m\u001b[1;33m\u001b[0m\u001b[0m\n",
      "\u001b[1;32m~\\Anaconda3\\lib\\site-packages\\pandas\\core\\groupby\\groupby.py\u001b[0m in \u001b[0;36m__getattr__\u001b[1;34m(self, attr)\u001b[0m\n\u001b[0;32m    760\u001b[0m             \u001b[1;32mreturn\u001b[0m \u001b[0mself\u001b[0m\u001b[1;33m[\u001b[0m\u001b[0mattr\u001b[0m\u001b[1;33m]\u001b[0m\u001b[1;33m\u001b[0m\u001b[1;33m\u001b[0m\u001b[0m\n\u001b[0;32m    761\u001b[0m         \u001b[1;32mif\u001b[0m \u001b[0mhasattr\u001b[0m\u001b[1;33m(\u001b[0m\u001b[0mself\u001b[0m\u001b[1;33m.\u001b[0m\u001b[0mobj\u001b[0m\u001b[1;33m,\u001b[0m \u001b[0mattr\u001b[0m\u001b[1;33m)\u001b[0m\u001b[1;33m:\u001b[0m\u001b[1;33m\u001b[0m\u001b[1;33m\u001b[0m\u001b[0m\n\u001b[1;32m--> 762\u001b[1;33m             \u001b[1;32mreturn\u001b[0m \u001b[0mself\u001b[0m\u001b[1;33m.\u001b[0m\u001b[0m_make_wrapper\u001b[0m\u001b[1;33m(\u001b[0m\u001b[0mattr\u001b[0m\u001b[1;33m)\u001b[0m\u001b[1;33m\u001b[0m\u001b[1;33m\u001b[0m\u001b[0m\n\u001b[0m\u001b[0;32m    763\u001b[0m \u001b[1;33m\u001b[0m\u001b[0m\n\u001b[0;32m    764\u001b[0m         raise AttributeError(\"%r object has no attribute %r\" %\n",
      "\u001b[1;32m~\\Anaconda3\\lib\\site-packages\\pandas\\core\\groupby\\groupby.py\u001b[0m in \u001b[0;36m_make_wrapper\u001b[1;34m(self, name)\u001b[0m\n\u001b[0;32m    797\u001b[0m                    \"using the 'apply' method\".format(kind, name,\n\u001b[0;32m    798\u001b[0m                                                      type(self).__name__))\n\u001b[1;32m--> 799\u001b[1;33m             \u001b[1;32mraise\u001b[0m \u001b[0mAttributeError\u001b[0m\u001b[1;33m(\u001b[0m\u001b[0mmsg\u001b[0m\u001b[1;33m)\u001b[0m\u001b[1;33m\u001b[0m\u001b[1;33m\u001b[0m\u001b[0m\n\u001b[0m\u001b[0;32m    800\u001b[0m \u001b[1;33m\u001b[0m\u001b[0m\n\u001b[0;32m    801\u001b[0m         \u001b[0mself\u001b[0m\u001b[1;33m.\u001b[0m\u001b[0m_set_group_selection\u001b[0m\u001b[1;33m(\u001b[0m\u001b[1;33m)\u001b[0m\u001b[1;33m\u001b[0m\u001b[1;33m\u001b[0m\u001b[0m\n",
      "\u001b[1;31mAttributeError\u001b[0m: Cannot access callable attribute 'set_index' of 'DataFrameGroupBy' objects, try using the 'apply' method"
     ]
    }
   ],
   "source": [
    "\n",
    "good_samples = good_samples.set_index('Donation_Date ')\n",
    "good_samples.index"
   ]
  },
  {
   "cell_type": "code",
   "execution_count": null,
   "metadata": {},
   "outputs": [],
   "source": []
  }
 ],
 "metadata": {
  "kernelspec": {
   "display_name": "Python 3",
   "language": "python",
   "name": "python3"
  },
  "language_info": {
   "codemirror_mode": {
    "name": "ipython",
    "version": 3
   },
   "file_extension": ".py",
   "mimetype": "text/x-python",
   "name": "python",
   "nbconvert_exporter": "python",
   "pygments_lexer": "ipython3",
   "version": "3.7.1"
  }
 },
 "nbformat": 4,
 "nbformat_minor": 2
}
